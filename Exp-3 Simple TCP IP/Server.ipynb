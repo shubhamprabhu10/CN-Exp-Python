{
 "cells": [
  {
   "cell_type": "markdown",
   "metadata": {},
   "source": [
    "SIMPLE TCP/IP \n",
    "SERVER"
   ]
  },
  {
   "cell_type": "code",
   "execution_count": null,
   "metadata": {},
   "outputs": [
    {
     "name": "stdout",
     "output_type": "stream",
     "text": [
      "('127.0.0.1', 62674)\n"
     ]
    }
   ],
   "source": [
    "import socket\n",
    "s=socket.socket(socket.AF_INET,socket.SOCK_STREAM) #AF used for IP // SOCK_STREAM used for IP \n",
    "s.bind((\"127.0.0.1\",9998)) #own ip and port number //127.0.1 is loopback address it is both source and destination decide from 0 to 65535 port number\n",
    "s.listen(5) #number of sockets which can be stored in the buffer \n",
    "while True:\n",
    "    c,addr=s.accept() #accepts 1 connection from buffer and returns a tuple which we destructer\n",
    "    print(addr)\n",
    "    c.send(\"Hi\".encode()) #encode converts it to binary as socket accepts only that\n",
    "    c.close()"
   ]
  },
  {
   "cell_type": "code",
   "execution_count": null,
   "metadata": {},
   "outputs": [],
   "source": [
    "import socket\n",
    "c=socket.socket(socket.AF_INET,socket.SOCK_STREAM)\n",
    "c.connect((socket.gethostname(),9995))\n",
    "print(socket.recv(1024).decode())"
   ]
  }
 ],
 "metadata": {
  "kernelspec": {
   "display_name": "Python 3",
   "language": "python",
   "name": "python3"
  },
  "language_info": {
   "codemirror_mode": {
    "name": "ipython",
    "version": 3
   },
   "file_extension": ".py",
   "mimetype": "text/x-python",
   "name": "python",
   "nbconvert_exporter": "python",
   "pygments_lexer": "ipython3",
   "version": "3.8.5"
  }
 },
 "nbformat": 4,
 "nbformat_minor": 4
}
