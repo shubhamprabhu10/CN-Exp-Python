{
 "cells": [
  {
   "cell_type": "code",
   "execution_count": null,
   "metadata": {},
   "outputs": [],
   "source": [
    "import socket\n",
    "s=socket.socket()\n",
    "port=9999\n",
    "s.bind(('localhost',port))\n",
    "s.listen()\n",
    "print('listening')\n",
    "while True:\n",
    "    conn,addr=s.accept()\n",
    "    filename=conn.recv(1024).decode()\n",
    "    files=open(filename,'rb')\n",
    "    filedata=files.read(1024)\n",
    "    conn.send(filedata)\n",
    "    conn.close()"
   ]
  }
 ],
 "metadata": {
  "kernelspec": {
   "display_name": "Python 3",
   "language": "python",
   "name": "python3"
  },
  "language_info": {
   "codemirror_mode": {
    "name": "ipython",
    "version": 3
   },
   "file_extension": ".py",
   "mimetype": "text/x-python",
   "name": "python",
   "nbconvert_exporter": "python",
   "pygments_lexer": "ipython3",
   "version": "3.8.5"
  }
 },
 "nbformat": 4,
 "nbformat_minor": 4
}
