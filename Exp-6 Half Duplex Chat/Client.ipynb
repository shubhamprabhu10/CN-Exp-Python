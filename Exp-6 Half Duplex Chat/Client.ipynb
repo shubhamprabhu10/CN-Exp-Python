{
 "cells": [
  {
   "cell_type": "code",
   "execution_count": null,
   "metadata": {},
   "outputs": [
    {
     "name": "stdout",
     "output_type": "stream",
     "text": [
      ">>heyy\n",
      "hi\n",
      ">>wassup\n",
      "bye\n",
      ">>q\n",
      "q\n"
     ]
    }
   ],
   "source": [
    "import socket\n",
    "s=socket.socket()\n",
    "host=5000\n",
    "s.connect(('localhost',5000))\n",
    "while True:\n",
    "  sentence=input(\">>\")\n",
    "  s.send(sentence.encode())\n",
    "  message=s.recv(2048)\n",
    "  print(message.decode())\n",
    "  if(sentence=='q'):\n",
    "    s.close()"
   ]
  },
  {
   "cell_type": "code",
   "execution_count": null,
   "metadata": {},
   "outputs": [],
   "source": []
  }
 ],
 "metadata": {
  "kernelspec": {
   "display_name": "Python 3",
   "language": "python",
   "name": "python3"
  },
  "language_info": {
   "codemirror_mode": {
    "name": "ipython",
    "version": 3
   },
   "file_extension": ".py",
   "mimetype": "text/x-python",
   "name": "python",
   "nbconvert_exporter": "python",
   "pygments_lexer": "ipython3",
   "version": "3.8.5"
  }
 },
 "nbformat": 4,
 "nbformat_minor": 4
}
