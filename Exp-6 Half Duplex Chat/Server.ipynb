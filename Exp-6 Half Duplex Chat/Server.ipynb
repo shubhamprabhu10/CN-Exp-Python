{
 "cells": [
  {
   "cell_type": "code",
   "execution_count": null,
   "metadata": {},
   "outputs": [],
   "source": [
    "import socket\n",
    "server_port=5000\n",
    "s=socket.socket()\n",
    "s.bind(('',server_port))\n",
    "s.listen(1)\n",
    "print(\"WELCOME SERVER READY TO RECEIVE\")\n",
    "conn,addr=s.accept()\n",
    "while True:\n",
    "  sentence=conn.recv(2048).decode()\n",
    "  print(sentence)\n",
    "  message=input(\">>\")\n",
    "  conn.send(message.encode())\n",
    "  if(message==\"q\"):\n",
    "    conn.close()"
   ]
  }
 ],
 "metadata": {
  "kernelspec": {
   "display_name": "Python 3",
   "language": "python",
   "name": "python3"
  },
  "language_info": {
   "codemirror_mode": {
    "name": "ipython",
    "version": 3
   },
   "file_extension": ".py",
   "mimetype": "text/x-python",
   "name": "python",
   "nbconvert_exporter": "python",
   "pygments_lexer": "ipython3",
   "version": "3.8.5"
  }
 },
 "nbformat": 4,
 "nbformat_minor": 4
}
