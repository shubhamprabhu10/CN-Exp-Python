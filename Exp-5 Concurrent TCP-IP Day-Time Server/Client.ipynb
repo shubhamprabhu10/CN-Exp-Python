{
 "cells": [
  {
   "cell_type": "code",
   "execution_count": 1,
   "metadata": {},
   "outputs": [
    {
     "name": "stdout",
     "output_type": "stream",
     "text": [
      "The time got from the server is Sat Dec 24 14:53:54 2022\r\n",
      "\n"
     ]
    }
   ],
   "source": [
    "import socket\n",
    "\n",
    "# create a socket object\n",
    "s = socket.socket(socket.AF_INET, socket.SOCK_STREAM) \n",
    "\n",
    "# get local machine name\n",
    "host = socket.gethostname()                           \n",
    "\n",
    "port = 9999\n",
    "\n",
    "# connection to hostname on the port.\n",
    "s.connect((host, port))                               \n",
    "\n",
    "# Receive no more than 1024 bytes\n",
    "tm = s.recv(1024)                                     \n",
    "\n",
    "s.close()\n",
    "\n",
    "print(\"The time got from the server is %s\" % tm.decode('ascii'))"
   ]
  },
  {
   "cell_type": "code",
   "execution_count": null,
   "metadata": {},
   "outputs": [],
   "source": []
  }
 ],
 "metadata": {
  "kernelspec": {
   "display_name": "Python 3",
   "language": "python",
   "name": "python3"
  },
  "language_info": {
   "codemirror_mode": {
    "name": "ipython",
    "version": 3
   },
   "file_extension": ".py",
   "mimetype": "text/x-python",
   "name": "python",
   "nbconvert_exporter": "python",
   "pygments_lexer": "ipython3",
   "version": "3.8.5"
  }
 },
 "nbformat": 4,
 "nbformat_minor": 4
}
