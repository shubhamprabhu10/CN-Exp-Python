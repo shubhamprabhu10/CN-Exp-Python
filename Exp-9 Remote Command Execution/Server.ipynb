{
 "cells": [
  {
   "cell_type": "code",
   "execution_count": null,
   "metadata": {},
   "outputs": [],
   "source": [
    "# Create socket with socket class.\n",
    "master = socket.socket()\n",
    " \n",
    "# Host is the IP address of master\n",
    "# machine.\n",
    "host = \"0.0.0.0\"\n",
    " \n",
    "# This will be the port that the\n",
    "# socket is bind.\n",
    "port = 8080\n",
    " \n",
    "# binding the host and port to the\n",
    "# socket we created.\n",
    "master.bind((host, port))\n",
    " \n",
    "# listen method listens on the socket\n",
    "# to accept socket connection.\n",
    "master.listen(1)\n",
    " \n",
    "# This method accept socket connection\n",
    "# from the slave machine\n",
    "slave, address = master.accept()\n",
    " \n",
    "# When the slave is accepted, we can send\n",
    "# and receive data in real time\n",
    "while True:\n",
    "    # input the command from the user\n",
    "    print(\">\", end=\" \")\n",
    "    command = input()\n",
    " \n",
    "    # encode the command and send it to the\n",
    "    # slave machine then slave machine can\n",
    "    # executes the command\n",
    "    slave.send(command.encode())\n",
    " \n",
    "    # If the command is exit, close the connection\n",
    "    if command == \"exit\":\n",
    "        break\n",
    " \n",
    "    # Receive the output of command, sent by the\n",
    "    # slave machine.recv method accepts integer as\n",
    "    # argument and it denotes no.of bytes to be\n",
    "    # received from the sender.\n",
    "    output = slave.recv(5000)\n",
    "    print(output.decode())\n",
    " \n",
    "# close method closes the socket connection between\n",
    "# master and slave.\n",
    "master.close()"
   ]
  }
 ],
 "metadata": {
  "kernelspec": {
   "display_name": "Python 3",
   "language": "python",
   "name": "python3"
  },
  "language_info": {
   "codemirror_mode": {
    "name": "ipython",
    "version": 3
   },
   "file_extension": ".py",
   "mimetype": "text/x-python",
   "name": "python",
   "nbconvert_exporter": "python",
   "pygments_lexer": "ipython3",
   "version": "3.8.5"
  }
 },
 "nbformat": 4,
 "nbformat_minor": 4
}
